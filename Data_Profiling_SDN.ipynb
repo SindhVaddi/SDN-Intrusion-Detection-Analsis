{
 "cells": [
  {
   "cell_type": "code",
   "execution_count": 1,
   "id": "a85d0fac-40f9-4073-96e0-604ef1bfadf0",
   "metadata": {},
   "outputs": [
    {
     "name": "stdout",
     "output_type": "stream",
     "text": [
      "Requirement already satisfied: pandas-profiling in ./opt/anaconda3/lib/python3.8/site-packages (3.1.0)\n",
      "Requirement already satisfied: multimethod>=1.4 in ./opt/anaconda3/lib/python3.8/site-packages (from pandas-profiling) (1.7)\n",
      "Requirement already satisfied: numpy>=1.16.0 in ./opt/anaconda3/lib/python3.8/site-packages (from pandas-profiling) (1.20.1)\n",
      "Requirement already satisfied: htmlmin>=0.1.12 in ./opt/anaconda3/lib/python3.8/site-packages (from pandas-profiling) (0.1.12)\n",
      "Requirement already satisfied: phik>=0.11.1 in ./opt/anaconda3/lib/python3.8/site-packages (from pandas-profiling) (0.12.0)\n",
      "Requirement already satisfied: matplotlib>=3.2.0 in ./opt/anaconda3/lib/python3.8/site-packages (from pandas-profiling) (3.3.4)\n",
      "Requirement already satisfied: seaborn>=0.10.1 in ./opt/anaconda3/lib/python3.8/site-packages (from pandas-profiling) (0.11.1)\n",
      "Requirement already satisfied: tangled-up-in-unicode==0.1.0 in ./opt/anaconda3/lib/python3.8/site-packages (from pandas-profiling) (0.1.0)\n",
      "Requirement already satisfied: requests>=2.24.0 in ./opt/anaconda3/lib/python3.8/site-packages (from pandas-profiling) (2.25.1)\n",
      "Requirement already satisfied: jinja2>=2.11.1 in ./opt/anaconda3/lib/python3.8/site-packages (from pandas-profiling) (2.11.3)\n",
      "Requirement already satisfied: missingno>=0.4.2 in ./opt/anaconda3/lib/python3.8/site-packages (from pandas-profiling) (0.5.1)\n",
      "Requirement already satisfied: PyYAML>=5.0.0 in ./opt/anaconda3/lib/python3.8/site-packages (from pandas-profiling) (5.4.1)\n",
      "Requirement already satisfied: pydantic>=1.8.1 in ./opt/anaconda3/lib/python3.8/site-packages (from pandas-profiling) (1.9.0)\n",
      "Requirement already satisfied: tqdm>=4.48.2 in ./opt/anaconda3/lib/python3.8/site-packages (from pandas-profiling) (4.59.0)\n",
      "Requirement already satisfied: pandas!=1.0.0,!=1.0.1,!=1.0.2,!=1.1.0,>=0.25.3 in ./opt/anaconda3/lib/python3.8/site-packages (from pandas-profiling) (1.2.4)\n",
      "Requirement already satisfied: joblib~=1.0.1 in ./opt/anaconda3/lib/python3.8/site-packages (from pandas-profiling) (1.0.1)\n",
      "Requirement already satisfied: scipy>=1.4.1 in ./opt/anaconda3/lib/python3.8/site-packages (from pandas-profiling) (1.6.2)\n",
      "Requirement already satisfied: visions[type_image_path]==0.7.4 in ./opt/anaconda3/lib/python3.8/site-packages (from pandas-profiling) (0.7.4)\n",
      "Requirement already satisfied: markupsafe~=2.0.1 in ./opt/anaconda3/lib/python3.8/site-packages (from pandas-profiling) (2.0.1)\n",
      "Requirement already satisfied: networkx>=2.4 in ./opt/anaconda3/lib/python3.8/site-packages (from visions[type_image_path]==0.7.4->pandas-profiling) (2.5)\n",
      "Requirement already satisfied: attrs>=19.3.0 in ./opt/anaconda3/lib/python3.8/site-packages (from visions[type_image_path]==0.7.4->pandas-profiling) (20.3.0)\n",
      "Requirement already satisfied: imagehash in ./opt/anaconda3/lib/python3.8/site-packages (from visions[type_image_path]==0.7.4->pandas-profiling) (4.2.1)\n",
      "Requirement already satisfied: Pillow in ./opt/anaconda3/lib/python3.8/site-packages (from visions[type_image_path]==0.7.4->pandas-profiling) (8.2.0)\n",
      "Requirement already satisfied: kiwisolver>=1.0.1 in ./opt/anaconda3/lib/python3.8/site-packages (from matplotlib>=3.2.0->pandas-profiling) (1.3.1)\n",
      "Requirement already satisfied: pyparsing!=2.0.4,!=2.1.2,!=2.1.6,>=2.0.3 in ./opt/anaconda3/lib/python3.8/site-packages (from matplotlib>=3.2.0->pandas-profiling) (2.4.7)\n",
      "Requirement already satisfied: cycler>=0.10 in ./opt/anaconda3/lib/python3.8/site-packages (from matplotlib>=3.2.0->pandas-profiling) (0.10.0)\n",
      "Requirement already satisfied: python-dateutil>=2.1 in ./opt/anaconda3/lib/python3.8/site-packages (from matplotlib>=3.2.0->pandas-profiling) (2.8.1)\n",
      "Requirement already satisfied: six in ./opt/anaconda3/lib/python3.8/site-packages (from cycler>=0.10->matplotlib>=3.2.0->pandas-profiling) (1.15.0)\n",
      "Requirement already satisfied: decorator>=4.3.0 in ./opt/anaconda3/lib/python3.8/site-packages (from networkx>=2.4->visions[type_image_path]==0.7.4->pandas-profiling) (5.0.6)\n",
      "Requirement already satisfied: pytz>=2017.3 in ./opt/anaconda3/lib/python3.8/site-packages (from pandas!=1.0.0,!=1.0.1,!=1.0.2,!=1.1.0,>=0.25.3->pandas-profiling) (2021.1)\n",
      "Requirement already satisfied: typing-extensions>=3.7.4.3 in ./opt/anaconda3/lib/python3.8/site-packages (from pydantic>=1.8.1->pandas-profiling) (3.7.4.3)\n",
      "Requirement already satisfied: chardet<5,>=3.0.2 in ./opt/anaconda3/lib/python3.8/site-packages (from requests>=2.24.0->pandas-profiling) (4.0.0)\n",
      "Requirement already satisfied: certifi>=2017.4.17 in ./opt/anaconda3/lib/python3.8/site-packages (from requests>=2.24.0->pandas-profiling) (2020.12.5)\n",
      "Requirement already satisfied: urllib3<1.27,>=1.21.1 in ./opt/anaconda3/lib/python3.8/site-packages (from requests>=2.24.0->pandas-profiling) (1.26.4)\n",
      "Requirement already satisfied: idna<3,>=2.5 in ./opt/anaconda3/lib/python3.8/site-packages (from requests>=2.24.0->pandas-profiling) (2.10)\n",
      "Requirement already satisfied: PyWavelets in ./opt/anaconda3/lib/python3.8/site-packages (from imagehash->visions[type_image_path]==0.7.4->pandas-profiling) (1.1.1)\n",
      "Note: you may need to restart the kernel to use updated packages.\n"
     ]
    }
   ],
   "source": [
    "pip install pandas-profiling"
   ]
  },
  {
   "cell_type": "code",
   "execution_count": 2,
   "id": "eba6769e-cb1d-46ea-b30d-7ece5191f1dd",
   "metadata": {},
   "outputs": [],
   "source": [
    "#Import Pandas and Pandas Data Profiling packages\n",
    "import pandas as pd\n",
    "import pandas_profiling   "
   ]
  },
  {
   "cell_type": "code",
   "execution_count": 3,
   "id": "01713aa1-c35e-4165-8587-354682524f1e",
   "metadata": {},
   "outputs": [],
   "source": [
    "#Importing the SDN Intrusion Detection Dataset\n",
    "df = pd.read_csv('/Users/sindhuvaddi/Downloads/SDN_Intrusion/0_Source_File/SDN_Intrusion.csv')"
   ]
  },
  {
   "cell_type": "code",
   "execution_count": 4,
   "id": "c1c5e2fe-3d44-4dc9-a44c-c15e68463222",
   "metadata": {},
   "outputs": [
    {
     "data": {
      "text/html": [
       "<div>\n",
       "<style scoped>\n",
       "    .dataframe tbody tr th:only-of-type {\n",
       "        vertical-align: middle;\n",
       "    }\n",
       "\n",
       "    .dataframe tbody tr th {\n",
       "        vertical-align: top;\n",
       "    }\n",
       "\n",
       "    .dataframe thead th {\n",
       "        text-align: right;\n",
       "    }\n",
       "</style>\n",
       "<table border=\"1\" class=\"dataframe\">\n",
       "  <thead>\n",
       "    <tr style=\"text-align: right;\">\n",
       "      <th></th>\n",
       "      <th>Unnamed: 0</th>\n",
       "      <th>Destination Port</th>\n",
       "      <th>Flow Duration</th>\n",
       "      <th>Total Fwd Packets</th>\n",
       "      <th>Total Backward Packets</th>\n",
       "      <th>Total Length of Fwd Packets</th>\n",
       "      <th>Total Length of Bwd Packets</th>\n",
       "      <th>Fwd Packet Length Max</th>\n",
       "      <th>Fwd Packet Length Min</th>\n",
       "      <th>Fwd Packet Length Mean</th>\n",
       "      <th>...</th>\n",
       "      <th>min_seg_size_forward</th>\n",
       "      <th>Active Mean</th>\n",
       "      <th>Active Std</th>\n",
       "      <th>Active Max</th>\n",
       "      <th>Active Min</th>\n",
       "      <th>Idle Mean</th>\n",
       "      <th>Idle Std</th>\n",
       "      <th>Idle Max</th>\n",
       "      <th>Idle Min</th>\n",
       "      <th>Class</th>\n",
       "    </tr>\n",
       "  </thead>\n",
       "  <tbody>\n",
       "    <tr>\n",
       "      <th>0</th>\n",
       "      <td>0</td>\n",
       "      <td>80</td>\n",
       "      <td>9865922</td>\n",
       "      <td>5</td>\n",
       "      <td>0</td>\n",
       "      <td>30</td>\n",
       "      <td>0</td>\n",
       "      <td>6</td>\n",
       "      <td>6</td>\n",
       "      <td>6.000000</td>\n",
       "      <td>...</td>\n",
       "      <td>20</td>\n",
       "      <td>1986.00000</td>\n",
       "      <td>0.0000</td>\n",
       "      <td>1986</td>\n",
       "      <td>1986</td>\n",
       "      <td>9.863936e+06</td>\n",
       "      <td>0.00000</td>\n",
       "      <td>9863936</td>\n",
       "      <td>9863936</td>\n",
       "      <td>DDoS</td>\n",
       "    </tr>\n",
       "    <tr>\n",
       "      <th>1</th>\n",
       "      <td>1</td>\n",
       "      <td>443</td>\n",
       "      <td>158423</td>\n",
       "      <td>24</td>\n",
       "      <td>22</td>\n",
       "      <td>703</td>\n",
       "      <td>24564</td>\n",
       "      <td>453</td>\n",
       "      <td>0</td>\n",
       "      <td>29.291667</td>\n",
       "      <td>...</td>\n",
       "      <td>32</td>\n",
       "      <td>0.00000</td>\n",
       "      <td>0.0000</td>\n",
       "      <td>0</td>\n",
       "      <td>0</td>\n",
       "      <td>0.000000e+00</td>\n",
       "      <td>0.00000</td>\n",
       "      <td>0</td>\n",
       "      <td>0</td>\n",
       "      <td>BENIGN</td>\n",
       "    </tr>\n",
       "    <tr>\n",
       "      <th>2</th>\n",
       "      <td>2</td>\n",
       "      <td>443</td>\n",
       "      <td>61163904</td>\n",
       "      <td>14</td>\n",
       "      <td>12</td>\n",
       "      <td>993</td>\n",
       "      <td>3445</td>\n",
       "      <td>620</td>\n",
       "      <td>0</td>\n",
       "      <td>70.928571</td>\n",
       "      <td>...</td>\n",
       "      <td>20</td>\n",
       "      <td>147216.66670</td>\n",
       "      <td>152989.5108</td>\n",
       "      <td>459505</td>\n",
       "      <td>84515</td>\n",
       "      <td>1.000000e+07</td>\n",
       "      <td>21747.04690</td>\n",
       "      <td>10100000</td>\n",
       "      <td>9999779</td>\n",
       "      <td>BENIGN</td>\n",
       "    </tr>\n",
       "    <tr>\n",
       "      <th>3</th>\n",
       "      <td>3</td>\n",
       "      <td>443</td>\n",
       "      <td>110544045</td>\n",
       "      <td>18</td>\n",
       "      <td>18</td>\n",
       "      <td>1213</td>\n",
       "      <td>4216</td>\n",
       "      <td>812</td>\n",
       "      <td>0</td>\n",
       "      <td>67.388889</td>\n",
       "      <td>...</td>\n",
       "      <td>20</td>\n",
       "      <td>75305.72727</td>\n",
       "      <td>133115.4997</td>\n",
       "      <td>476664</td>\n",
       "      <td>35046</td>\n",
       "      <td>9.970950e+06</td>\n",
       "      <td>80601.91884</td>\n",
       "      <td>10000000</td>\n",
       "      <td>9728297</td>\n",
       "      <td>BENIGN</td>\n",
       "    </tr>\n",
       "    <tr>\n",
       "      <th>4</th>\n",
       "      <td>4</td>\n",
       "      <td>53</td>\n",
       "      <td>185</td>\n",
       "      <td>2</td>\n",
       "      <td>2</td>\n",
       "      <td>104</td>\n",
       "      <td>136</td>\n",
       "      <td>52</td>\n",
       "      <td>52</td>\n",
       "      <td>52.000000</td>\n",
       "      <td>...</td>\n",
       "      <td>20</td>\n",
       "      <td>0.00000</td>\n",
       "      <td>0.0000</td>\n",
       "      <td>0</td>\n",
       "      <td>0</td>\n",
       "      <td>0.000000e+00</td>\n",
       "      <td>0.00000</td>\n",
       "      <td>0</td>\n",
       "      <td>0</td>\n",
       "      <td>BENIGN</td>\n",
       "    </tr>\n",
       "  </tbody>\n",
       "</table>\n",
       "<p>5 rows × 80 columns</p>\n",
       "</div>"
      ],
      "text/plain": [
       "   Unnamed: 0   Destination Port   Flow Duration   Total Fwd Packets  \\\n",
       "0           0                 80         9865922                   5   \n",
       "1           1                443          158423                  24   \n",
       "2           2                443        61163904                  14   \n",
       "3           3                443       110544045                  18   \n",
       "4           4                 53             185                   2   \n",
       "\n",
       "    Total Backward Packets  Total Length of Fwd Packets  \\\n",
       "0                        0                           30   \n",
       "1                       22                          703   \n",
       "2                       12                          993   \n",
       "3                       18                         1213   \n",
       "4                        2                          104   \n",
       "\n",
       "    Total Length of Bwd Packets   Fwd Packet Length Max  \\\n",
       "0                             0                       6   \n",
       "1                         24564                     453   \n",
       "2                          3445                     620   \n",
       "3                          4216                     812   \n",
       "4                           136                      52   \n",
       "\n",
       "    Fwd Packet Length Min   Fwd Packet Length Mean  ...  \\\n",
       "0                       6                 6.000000  ...   \n",
       "1                       0                29.291667  ...   \n",
       "2                       0                70.928571  ...   \n",
       "3                       0                67.388889  ...   \n",
       "4                      52                52.000000  ...   \n",
       "\n",
       "    min_seg_size_forward   Active Mean   Active Std   Active Max   Active Min  \\\n",
       "0                     20    1986.00000       0.0000         1986         1986   \n",
       "1                     32       0.00000       0.0000            0            0   \n",
       "2                     20  147216.66670  152989.5108       459505        84515   \n",
       "3                     20   75305.72727  133115.4997       476664        35046   \n",
       "4                     20       0.00000       0.0000            0            0   \n",
       "\n",
       "      Idle Mean     Idle Std   Idle Max   Idle Min   Class  \n",
       "0  9.863936e+06      0.00000    9863936    9863936    DDoS  \n",
       "1  0.000000e+00      0.00000          0          0  BENIGN  \n",
       "2  1.000000e+07  21747.04690   10100000    9999779  BENIGN  \n",
       "3  9.970950e+06  80601.91884   10000000    9728297  BENIGN  \n",
       "4  0.000000e+00      0.00000          0          0  BENIGN  \n",
       "\n",
       "[5 rows x 80 columns]"
      ]
     },
     "execution_count": 4,
     "metadata": {},
     "output_type": "execute_result"
    }
   ],
   "source": [
    "#Reading the first 5 rows of the dataset\n",
    "df.head()"
   ]
  },
  {
   "cell_type": "code",
   "execution_count": 5,
   "id": "b2de5b86-7f45-4f63-855c-a759977b3979",
   "metadata": {},
   "outputs": [
    {
     "name": "stdout",
     "output_type": "stream",
     "text": [
      "Number of Columns in the dataset: 80\n",
      "Number of rows in the dataset: 1188333\n"
     ]
    }
   ],
   "source": [
    "#Checking the number of columns in the dataset\n",
    "print('Number of Columns in the dataset:', len(df.columns))\n",
    "\n",
    "#Checking the number of rows in the dataset\n",
    "print('Number of rows in the dataset:', len(df))"
   ]
  },
  {
   "cell_type": "code",
   "execution_count": 6,
   "id": "a5bed96e-e7b0-4253-bfc4-34926c92e2fe",
   "metadata": {},
   "outputs": [
    {
     "name": "stdout",
     "output_type": "stream",
     "text": [
      "<class 'pandas.core.frame.DataFrame'>\n",
      "RangeIndex: 1188333 entries, 0 to 1188332\n",
      "Data columns (total 80 columns):\n",
      " #   Column                        Non-Null Count    Dtype  \n",
      "---  ------                        --------------    -----  \n",
      " 0   Unnamed: 0                    1188333 non-null  int64  \n",
      " 1    Destination Port             1188333 non-null  int64  \n",
      " 2    Flow Duration                1188333 non-null  int64  \n",
      " 3    Total Fwd Packets            1188333 non-null  int64  \n",
      " 4    Total Backward Packets       1188333 non-null  int64  \n",
      " 5   Total Length of Fwd Packets   1188333 non-null  int64  \n",
      " 6    Total Length of Bwd Packets  1188333 non-null  int64  \n",
      " 7    Fwd Packet Length Max        1188333 non-null  int64  \n",
      " 8    Fwd Packet Length Min        1188333 non-null  int64  \n",
      " 9    Fwd Packet Length Mean       1188333 non-null  float64\n",
      " 10   Fwd Packet Length Std        1188333 non-null  float64\n",
      " 11  Bwd Packet Length Max         1188333 non-null  int64  \n",
      " 12   Bwd Packet Length Min        1188333 non-null  int64  \n",
      " 13   Bwd Packet Length Mean       1188333 non-null  float64\n",
      " 14   Bwd Packet Length Std        1188333 non-null  float64\n",
      " 15  Flow Bytes/s                  1188262 non-null  float64\n",
      " 16   Flow Packets/s               1188333 non-null  float64\n",
      " 17   Flow IAT Mean                1188333 non-null  float64\n",
      " 18   Flow IAT Std                 1188333 non-null  float64\n",
      " 19   Flow IAT Max                 1188333 non-null  int64  \n",
      " 20   Flow IAT Min                 1188333 non-null  int64  \n",
      " 21  Fwd IAT Total                 1188333 non-null  int64  \n",
      " 22   Fwd IAT Mean                 1188333 non-null  float64\n",
      " 23   Fwd IAT Std                  1188333 non-null  float64\n",
      " 24   Fwd IAT Max                  1188333 non-null  int64  \n",
      " 25   Fwd IAT Min                  1188333 non-null  int64  \n",
      " 26  Bwd IAT Total                 1188333 non-null  int64  \n",
      " 27   Bwd IAT Mean                 1188333 non-null  float64\n",
      " 28   Bwd IAT Std                  1188333 non-null  float64\n",
      " 29   Bwd IAT Max                  1188333 non-null  int64  \n",
      " 30   Bwd IAT Min                  1188333 non-null  int64  \n",
      " 31  Fwd PSH Flags                 1188333 non-null  int64  \n",
      " 32   Bwd PSH Flags                1188333 non-null  int64  \n",
      " 33   Fwd URG Flags                1188333 non-null  int64  \n",
      " 34   Bwd URG Flags                1188333 non-null  int64  \n",
      " 35   Fwd Header Length            1188333 non-null  int64  \n",
      " 36   Bwd Header Length            1188333 non-null  int64  \n",
      " 37  Fwd Packets/s                 1188333 non-null  float64\n",
      " 38   Bwd Packets/s                1188333 non-null  float64\n",
      " 39   Min Packet Length            1188333 non-null  int64  \n",
      " 40   Max Packet Length            1188333 non-null  int64  \n",
      " 41   Packet Length Mean           1188333 non-null  float64\n",
      " 42   Packet Length Std            1188333 non-null  float64\n",
      " 43   Packet Length Variance       1188333 non-null  float64\n",
      " 44  FIN Flag Count                1188333 non-null  int64  \n",
      " 45   SYN Flag Count               1188333 non-null  int64  \n",
      " 46   RST Flag Count               1188333 non-null  int64  \n",
      " 47   PSH Flag Count               1188333 non-null  int64  \n",
      " 48   ACK Flag Count               1188333 non-null  int64  \n",
      " 49   URG Flag Count               1188333 non-null  int64  \n",
      " 50   CWE Flag Count               1188333 non-null  int64  \n",
      " 51   ECE Flag Count               1188333 non-null  int64  \n",
      " 52   Down/Up Ratio                1188333 non-null  int64  \n",
      " 53   Average Packet Size          1188333 non-null  float64\n",
      " 54   Avg Fwd Segment Size         1188333 non-null  float64\n",
      " 55   Avg Bwd Segment Size         1188333 non-null  float64\n",
      " 56   Fwd Header Length.1          1188333 non-null  int64  \n",
      " 57  Fwd Avg Bytes/Bulk            1188333 non-null  int64  \n",
      " 58   Fwd Avg Packets/Bulk         1188333 non-null  int64  \n",
      " 59   Fwd Avg Bulk Rate            1188333 non-null  int64  \n",
      " 60   Bwd Avg Bytes/Bulk           1188333 non-null  int64  \n",
      " 61   Bwd Avg Packets/Bulk         1188333 non-null  int64  \n",
      " 62  Bwd Avg Bulk Rate             1188333 non-null  int64  \n",
      " 63  Subflow Fwd Packets           1188333 non-null  int64  \n",
      " 64   Subflow Fwd Bytes            1188333 non-null  int64  \n",
      " 65   Subflow Bwd Packets          1188333 non-null  int64  \n",
      " 66   Subflow Bwd Bytes            1188333 non-null  int64  \n",
      " 67  Init_Win_bytes_forward        1188333 non-null  int64  \n",
      " 68   Init_Win_bytes_backward      1188333 non-null  int64  \n",
      " 69   act_data_pkt_fwd             1188333 non-null  int64  \n",
      " 70   min_seg_size_forward         1188333 non-null  int64  \n",
      " 71  Active Mean                   1188333 non-null  float64\n",
      " 72   Active Std                   1188333 non-null  float64\n",
      " 73   Active Max                   1188333 non-null  int64  \n",
      " 74   Active Min                   1188333 non-null  int64  \n",
      " 75  Idle Mean                     1188333 non-null  float64\n",
      " 76   Idle Std                     1188333 non-null  float64\n",
      " 77   Idle Max                     1188333 non-null  int64  \n",
      " 78   Idle Min                     1188333 non-null  int64  \n",
      " 79  Class                         1188333 non-null  object \n",
      "dtypes: float64(24), int64(55), object(1)\n",
      "memory usage: 725.3+ MB\n",
      "None\n"
     ]
    }
   ],
   "source": [
    "#Reading all the Columns names in the dataset\n",
    "print(df.info())"
   ]
  },
  {
   "cell_type": "code",
   "execution_count": 7,
   "id": "6e605ad2-44ec-4f98-9479-200ef73dfc04",
   "metadata": {},
   "outputs": [],
   "source": [
    "#Creating the Data Profiling Report\n",
    "Data_Profiling_Report = df.profile_report(title='Data Profiling Report of SDN Intrusion Detection Data')"
   ]
  },
  {
   "cell_type": "code",
   "execution_count": 8,
   "id": "c270f1cb-b9b4-4424-988f-467911e27a7e",
   "metadata": {
    "scrolled": false
   },
   "outputs": [
    {
     "data": {
      "application/vnd.jupyter.widget-view+json": {
       "model_id": "c9e476d4725d467087e860076fa2dc12",
       "version_major": 2,
       "version_minor": 0
      },
      "text/plain": [
       "Summarize dataset:   0%|          | 0/5 [00:00<?, ?it/s]"
      ]
     },
     "metadata": {},
     "output_type": "display_data"
    },
    {
     "name": "stderr",
     "output_type": "stream",
     "text": [
      "/Users/sindhuvaddi/opt/anaconda3/lib/python3.8/site-packages/numpy/core/_methods.py:229: RuntimeWarning: invalid value encountered in subtract\n",
      "  x = asanyarray(arr - arrmean)\n",
      "/Users/sindhuvaddi/opt/anaconda3/lib/python3.8/site-packages/numpy/core/_methods.py:229: RuntimeWarning: invalid value encountered in subtract\n",
      "  x = asanyarray(arr - arrmean)\n",
      "/Users/sindhuvaddi/opt/anaconda3/lib/python3.8/site-packages/numpy/core/_methods.py:229: RuntimeWarning: invalid value encountered in subtract\n",
      "  x = asanyarray(arr - arrmean)\n",
      "/Users/sindhuvaddi/opt/anaconda3/lib/python3.8/site-packages/numpy/core/_methods.py:229: RuntimeWarning: invalid value encountered in subtract\n",
      "  x = asanyarray(arr - arrmean)\n",
      "/Users/sindhuvaddi/opt/anaconda3/lib/python3.8/site-packages/scipy/stats/stats.py:4594: RuntimeWarning: overflow encountered in long_scalars\n",
      "  (2 * xtie * ytie) / m + x0 * y0 / (9 * m * (size - 2)))\n",
      "/Users/sindhuvaddi/opt/anaconda3/lib/python3.8/site-packages/scipy/stats/stats.py:4596: RuntimeWarning: invalid value encountered in sqrt\n",
      "  np.sqrt(var) / np.sqrt(2)))\n",
      "/Users/sindhuvaddi/opt/anaconda3/lib/python3.8/site-packages/missingno/missingno.py:254: UserWarning: FixedFormatter should only be used together with FixedLocator\n",
      "  ax1.set_xticklabels(\n",
      "/Users/sindhuvaddi/opt/anaconda3/lib/python3.8/site-packages/pandas_profiling/model/missing.py:89: UserWarning: There was an attempt to generate the Count missing values diagrams, but this failed.\n",
      "To hide this warning, disable the calculation\n",
      "(using `df.profile_report(missing_diagrams={\"Count\": False}`)\n",
      "If this is problematic for your use case, please report this as an issue:\n",
      "https://github.com/pandas-profiling/pandas-profiling/issues\n",
      "(include the error message: 'The number of FixedLocator locations (7), usually from a call to set_ticks, does not match the number of ticklabels (80).')\n",
      "  warnings.warn(\n"
     ]
    },
    {
     "data": {
      "application/vnd.jupyter.widget-view+json": {
       "model_id": "48422a50e9a04dca897376ecaadf15be",
       "version_major": 2,
       "version_minor": 0
      },
      "text/plain": [
       "Generate report structure:   0%|          | 0/1 [00:00<?, ?it/s]"
      ]
     },
     "metadata": {},
     "output_type": "display_data"
    },
    {
     "name": "stderr",
     "output_type": "stream",
     "text": [
      "/Users/sindhuvaddi/opt/anaconda3/lib/python3.8/site-packages/pandas_profiling/visualisation/utils.py:66: UserWarning: Glyph 65533 (\\N{REPLACEMENT CHARACTER}) missing from current font.\n",
      "  plt.savefig(image_str, format=image_format)\n"
     ]
    },
    {
     "data": {
      "application/vnd.jupyter.widget-view+json": {
       "model_id": "f89edb6e350a4ad89e8785496d7da7f1",
       "version_major": 2,
       "version_minor": 0
      },
      "text/plain": [
       "Render HTML:   0%|          | 0/1 [00:00<?, ?it/s]"
      ]
     },
     "metadata": {},
     "output_type": "display_data"
    },
    {
     "data": {
      "application/vnd.jupyter.widget-view+json": {
       "model_id": "8c43302fa1fd4ed59fca35433438fe94",
       "version_major": 2,
       "version_minor": 0
      },
      "text/plain": [
       "Export report to file:   0%|          | 0/1 [00:00<?, ?it/s]"
      ]
     },
     "metadata": {},
     "output_type": "display_data"
    }
   ],
   "source": [
    "#Save the report as html file\n",
    "Data_Profiling_Report.to_file(output_file=\"SDN_Intrusion_Detection_Data_Profiling.html\")"
   ]
  },
  {
   "cell_type": "markdown",
   "id": "3b088d24",
   "metadata": {},
   "source": [
    "#Access the file here\n",
    "http://localhost:8888/view/SDN_Intrusion_Detection_Data_Profiling.html"
   ]
  }
 ],
 "metadata": {
  "kernelspec": {
   "display_name": "Python 3",
   "language": "python",
   "name": "python3"
  },
  "language_info": {
   "codemirror_mode": {
    "name": "ipython",
    "version": 3
   },
   "file_extension": ".py",
   "mimetype": "text/x-python",
   "name": "python",
   "nbconvert_exporter": "python",
   "pygments_lexer": "ipython3",
   "version": "3.8.8"
  }
 },
 "nbformat": 4,
 "nbformat_minor": 5
}
